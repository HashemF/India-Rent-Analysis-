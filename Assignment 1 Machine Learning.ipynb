{
 "cells": [
  {
   "cell_type": "markdown",
   "id": "b3b20da0",
   "metadata": {},
   "source": [
    "<!-- -Assignment 1 By Hashem Fawzy for Applied Machine Learning\n",
    "\n",
    "1. Data Description and Analysis\n",
    "We will be taking a look at a dataset with 4700+ houses with several columns detailing the numbers and existance of bedrooms, floors, and finalizing with the rental price.\n",
    " *Note: keep in mind the data is mainly for india, and that it includes the district the home is in, as well as whether the home is a apartment, house, or other form of living.\n",
    " \n",
    " My motivation to select this dataset was from the usage of this data fullfilling not only the objectives required to construct a model, but also is a great datatset to practice model building and creating a machine dedicated to possibly predict the price of housing based on the factors determined in a house. India is a vast and fluctuating city with alot of information available to those outside of the country, which is why their data will be a great foundation to understanding prices within the city should someone consider living there. While a price will definitely be more if the size is much greater than one other, would one price differ in Mumbai compared to Lucklow with the exact same features? that's what we will try to find out\n",
    " \n",
    " My Objective with this dataset is to create a model estimating rent based on the factors needed by the individual for their living space. For example, if a person wants a house with a garage, 2 bedrooms, a bath, and of small size, I would like to input the data into the model and come out with a price such as 8000. we will construct several models using different factors and ultimately decide on one\n",
    " \n",
    " Our approach to completing this area will be to first determine the factors that are important to the dataset, using testing and visualization. Next we will predict and train our data to detect any source of underfitting, overfitting, or more.\n",
    "    "
   ]
  },
  {
   "cell_type": "code",
   "execution_count": 51,
   "id": "246f60a3",
   "metadata": {},
   "outputs": [],
   "source": [
    "# Assignment 1 for Machine Learning by Hashem Fawzy.\n",
    "# Hello guys and welcome to my Jupyter Notebook. we will be looking at a dataset called the House_Rent_Dataset. \n",
    "# For a short expanation. this data is on the rental price of housing for several places located in india. India uses the rupee as\n",
    "# their form of currency, so this is using that mode of currency instead of others. The data also lists several columns with different\n",
    "# details about the home, such as The city it is located in, whether it is furnished, and more detais listed below.\n",
    "\n",
    "# My Objective is to visualize the relationships between several factors of the data compared to the rent in order to build a \n",
    "# model with at least ample accuracy and create something capable of calculating rent with the factors considered.\n",
    "\n",
    "# My approach to this will first creating an understanding of important factors to the data using visual comparisons to eachother.\n",
    "# once analyzed, the factors chosen as important will then be placed into our model, which we will then split our data into\n",
    "# test/training data. \n",
    "# For my Approach I will be utilizing 2 models, the Linear regression model, as well as a decision tree model called the Random \n",
    "# Forests model."
   ]
  },
  {
   "cell_type": "code",
   "execution_count": 52,
   "id": "f72036f1",
   "metadata": {},
   "outputs": [
    {
     "data": {
      "text/html": [
       "<div>\n",
       "<style scoped>\n",
       "    .dataframe tbody tr th:only-of-type {\n",
       "        vertical-align: middle;\n",
       "    }\n",
       "\n",
       "    .dataframe tbody tr th {\n",
       "        vertical-align: top;\n",
       "    }\n",
       "\n",
       "    .dataframe thead th {\n",
       "        text-align: right;\n",
       "    }\n",
       "</style>\n",
       "<table border=\"1\" class=\"dataframe\">\n",
       "  <thead>\n",
       "    <tr style=\"text-align: right;\">\n",
       "      <th></th>\n",
       "      <th>Posted On</th>\n",
       "      <th>BHK</th>\n",
       "      <th>Rent</th>\n",
       "      <th>Size</th>\n",
       "      <th>Floor</th>\n",
       "      <th>Area Type</th>\n",
       "      <th>Area Locality</th>\n",
       "      <th>City</th>\n",
       "      <th>Furnishing Status</th>\n",
       "      <th>Tenant Preferred</th>\n",
       "      <th>Bathroom</th>\n",
       "      <th>Point of Contact</th>\n",
       "    </tr>\n",
       "  </thead>\n",
       "  <tbody>\n",
       "    <tr>\n",
       "      <th>0</th>\n",
       "      <td>2022-05-18</td>\n",
       "      <td>2</td>\n",
       "      <td>10000</td>\n",
       "      <td>1100</td>\n",
       "      <td>Ground out of 2</td>\n",
       "      <td>Super Area</td>\n",
       "      <td>Bandel</td>\n",
       "      <td>Kolkata</td>\n",
       "      <td>Unfurnished</td>\n",
       "      <td>Bachelors/Family</td>\n",
       "      <td>2</td>\n",
       "      <td>Contact Owner</td>\n",
       "    </tr>\n",
       "    <tr>\n",
       "      <th>1</th>\n",
       "      <td>2022-05-13</td>\n",
       "      <td>2</td>\n",
       "      <td>20000</td>\n",
       "      <td>800</td>\n",
       "      <td>1 out of 3</td>\n",
       "      <td>Super Area</td>\n",
       "      <td>Phool Bagan, Kankurgachi</td>\n",
       "      <td>Kolkata</td>\n",
       "      <td>Semi-Furnished</td>\n",
       "      <td>Bachelors/Family</td>\n",
       "      <td>1</td>\n",
       "      <td>Contact Owner</td>\n",
       "    </tr>\n",
       "    <tr>\n",
       "      <th>2</th>\n",
       "      <td>2022-05-16</td>\n",
       "      <td>2</td>\n",
       "      <td>17000</td>\n",
       "      <td>1000</td>\n",
       "      <td>1 out of 3</td>\n",
       "      <td>Super Area</td>\n",
       "      <td>Salt Lake City Sector 2</td>\n",
       "      <td>Kolkata</td>\n",
       "      <td>Semi-Furnished</td>\n",
       "      <td>Bachelors/Family</td>\n",
       "      <td>1</td>\n",
       "      <td>Contact Owner</td>\n",
       "    </tr>\n",
       "    <tr>\n",
       "      <th>3</th>\n",
       "      <td>2022-07-04</td>\n",
       "      <td>2</td>\n",
       "      <td>10000</td>\n",
       "      <td>800</td>\n",
       "      <td>1 out of 2</td>\n",
       "      <td>Super Area</td>\n",
       "      <td>Dumdum Park</td>\n",
       "      <td>Kolkata</td>\n",
       "      <td>Unfurnished</td>\n",
       "      <td>Bachelors/Family</td>\n",
       "      <td>1</td>\n",
       "      <td>Contact Owner</td>\n",
       "    </tr>\n",
       "    <tr>\n",
       "      <th>4</th>\n",
       "      <td>2022-05-09</td>\n",
       "      <td>2</td>\n",
       "      <td>7500</td>\n",
       "      <td>850</td>\n",
       "      <td>1 out of 2</td>\n",
       "      <td>Carpet Area</td>\n",
       "      <td>South Dum Dum</td>\n",
       "      <td>Kolkata</td>\n",
       "      <td>Unfurnished</td>\n",
       "      <td>Bachelors</td>\n",
       "      <td>1</td>\n",
       "      <td>Contact Owner</td>\n",
       "    </tr>\n",
       "  </tbody>\n",
       "</table>\n",
       "</div>"
      ],
      "text/plain": [
       "    Posted On  BHK   Rent  Size            Floor    Area Type  \\\n",
       "0  2022-05-18    2  10000  1100  Ground out of 2   Super Area   \n",
       "1  2022-05-13    2  20000   800       1 out of 3   Super Area   \n",
       "2  2022-05-16    2  17000  1000       1 out of 3   Super Area   \n",
       "3  2022-07-04    2  10000   800       1 out of 2   Super Area   \n",
       "4  2022-05-09    2   7500   850       1 out of 2  Carpet Area   \n",
       "\n",
       "              Area Locality     City Furnishing Status  Tenant Preferred  \\\n",
       "0                    Bandel  Kolkata       Unfurnished  Bachelors/Family   \n",
       "1  Phool Bagan, Kankurgachi  Kolkata    Semi-Furnished  Bachelors/Family   \n",
       "2   Salt Lake City Sector 2  Kolkata    Semi-Furnished  Bachelors/Family   \n",
       "3               Dumdum Park  Kolkata       Unfurnished  Bachelors/Family   \n",
       "4             South Dum Dum  Kolkata       Unfurnished         Bachelors   \n",
       "\n",
       "   Bathroom Point of Contact  \n",
       "0         2    Contact Owner  \n",
       "1         1    Contact Owner  \n",
       "2         1    Contact Owner  \n",
       "3         1    Contact Owner  \n",
       "4         1    Contact Owner  "
      ]
     },
     "execution_count": 52,
     "metadata": {},
     "output_type": "execute_result"
    }
   ],
   "source": [
    "import numpy as np\n",
    "import matplotlib.pyplot as plt\n",
    "import pandas as pd\n",
    "import seaborn as sns\n",
    "#Loading the Dataset we will be using\n",
    "data= pd.read_csv(r'D:\\School\\University\\Semester 6\\Applied Machine Learning\\House_Rent_Dataset.csv')\n",
    "#Showing the first 5 rows of our data as a sample.\n",
    "data.head()\n",
    "\n",
    "# The Data has several nominal and discrete/continuous Forms of data. we will take a look at the important ones, and consider \n",
    "# Which to install in our model later\n",
    "\n",
    "# Features we will consider when building the model (Based on data found):\n",
    "# BHK: Number of Bedrooms, Hall, Kitchen.\n",
    "\n",
    "# Rent: Rent of the Houses/Apartments/Flats - Our Y variable (DEPENDANT)\n",
    "# Floor: Houses/Apartments/Flats situated in which Floor and Total Number of Floors (Example: Ground out of 2, 3 out of 5, etc.)\n",
    "\n",
    "# Area Type: Size of the Houses/Apartments/Flats calculated on either Super Area or Carpet Area or Build Area.\n",
    "# Area Locality: Locality of the Houses/Apartments/Flats.\n",
    "\n",
    "# City: City where the Houses/Apartments/Flats are Located.\n",
    "# Bathroom Number\n",
    "# Furnishing Status: Furnishing Status of the Houses/Apartments/Flats, either it is Furnished or Semi-Furnished or Unfurnished.\n",
    "# Point of Contact: Whom should you contact for more information regarding the Houses/Apartments/Flats."
   ]
  },
  {
   "cell_type": "code",
   "execution_count": null,
   "id": "99e4d72d",
   "metadata": {},
   "outputs": [],
   "source": [
    "# A description of the Data. Including any mean, median\n",
    "data.describe()\n",
    "#What this means. On average, the BHK on average is 2, as well as the size being on average 967, and there being 2 bathrooms \n",
    "#on Average. Whats most important is that the RENT is on average 34993. This however will be considred with outliers in the\n",
    "#Data, which will be shown below in [IN 82]"
   ]
  },
  {
   "cell_type": "code",
   "execution_count": 54,
   "id": "2a23a79e",
   "metadata": {},
   "outputs": [
    {
     "data": {
      "text/plain": [
       "<seaborn.axisgrid.PairGrid at 0x1f6ac713dd0>"
      ]
     },
     "execution_count": 54,
     "metadata": {},
     "output_type": "execute_result"
    },
    {
     "data": {
      "image/png": "[encoded data removed]",
      "text/plain": [
       "<Figure size 1200x500 with 3 Axes>"
      ]
     },
     "metadata": {},
     "output_type": "display_data"
    }
   ],
   "source": [
    "# Visualization using scatterplots\n",
    "sns.pairplot(data, x_vars=['Area Type','Size','BHK'], y_vars='Rent', height=5, aspect=0.8)"
   ]
  },
  {
   "cell_type": "code",
   "execution_count": null,
   "id": "443079be",
   "metadata": {
    "scrolled": false
   },
   "outputs": [],
   "source": [
    "# #Interesting! while size is showing a high skewness to the right, BHK annd Area Type face a symmetric appearance. For Area Type\n",
    "# this makes sense, and I will explain more on that with a better visualization form. However, I determine size and BHK to be \n",
    "# great for our dataset as they could determine our dataset with their combination, although a few outliers will impact the data.\n",
    "sns.pairplot(data, x_vars=['Bathroom','Furnishing Status'], y_vars='Rent', height=5, aspect=0.8)"
   ]
  },
  {
   "cell_type": "code",
   "execution_count": null,
   "id": "f3843401",
   "metadata": {},
   "outputs": [],
   "source": [
    "# The Bathroom Dataset as well as the furnishing status appear to be symmetrical with the rent being shown. As the former has \n",
    "# multiple options of choice compared to the latter having only 3, we can analyze our data more fairly, as well as utilizing \n",
    "# a discrete dataset. We will use Bathroom for our model.\n",
    "\n",
    "#Visualizing the Rent based on the city. Included is the number of Rooms (Halls and kitchens included)\n",
    "sns.barplot(x=data['City'], y=data['Rent'], hue=data['BHK'], errorbar=None)"
   ]
  },
  {
   "cell_type": "code",
   "execution_count": null,
   "id": "7da9dfa6",
   "metadata": {},
   "outputs": [],
   "source": [
    "#Another Barplot. this time measuring the rent according to the furnishing status. Reports from the figure indicate that rent \n",
    "#increases slighty based on the furnishing status, rather than unfurnished. This is great. we can understand Mumbai to be the \n",
    "# reason why skewness is high  while places like kolkata are considered low. For now we will consider this off the model however,\n",
    "# as these are nominal datasets."
   ]
  },
  {
   "cell_type": "code",
   "execution_count": null,
   "id": "9777e108",
   "metadata": {},
   "outputs": [],
   "source": [
    "sns.scatterplot(x=data['Size']/1000,y=data['Rent']/100000,hue=data['Furnishing Status'])\n",
    "plt.show()"
   ]
  },
  {
   "cell_type": "code",
   "execution_count": null,
   "id": "fa5e2e00",
   "metadata": {},
   "outputs": [],
   "source": [
    "#Barplot indicating Area Type relation and BHK relation. \n",
    "sns.barplot(x=data['Area Type'], y=data['Rent'], hue=data['BHK'], errorbar=None)\n",
    "plt.ylabel(\"Rent\")"
   ]
  },
  {
   "cell_type": "code",
   "execution_count": null,
   "id": "98cd8972",
   "metadata": {},
   "outputs": [],
   "source": [
    "# Features for Area Type: Super Area, Carpet Area, and Built Area\n",
    "#     #Explanation: In india, 3 areas tend to be for sale. The Carpet area are areas where places tend to be used \n",
    "#     #by an individual when renting a apartment room, and not by neighbors. Places like the room itself would fall in that area.\n",
    "#     #Meanwhile, the super Area is an area used by everyone just as a cafeteria, stairs, lifts, and such.\n",
    "# What This means is that we know that people in india tend to use their renting mainly for the areas lived in. This makes sense. \n",
    "# So we can now discard the Area type as a variable to consider when making a model. as if an area is a carpet area, people \n",
    "# tend to spend more on it. we can safely consider those renting the Super Area tend to spend less. \n",
    "    "
   ]
  },
  {
   "cell_type": "code",
   "execution_count": null,
   "id": "480d3289",
   "metadata": {},
   "outputs": [],
   "source": [
    "# 2. Prediction Model. Creating our Model\n",
    "# So, for our model, we will consider 3 factors to be important when creating it for our Linear regression and Random Forests\n",
    "# Model: Size, Bathroom Number, and BHK."
   ]
  },
  {
   "cell_type": "code",
   "execution_count": null,
   "id": "cd7b5496",
   "metadata": {
    "scrolled": false
   },
   "outputs": [],
   "source": [
    "# We will start by making a linear regression model.\n",
    "#For this model we will need variables that are continuous and/or discrete. Discrete variables will need extra care when handled.\n",
    "#For this I have decided the size, BHK, and Bathroom# are ample examples.\n"
   ]
  },
  {
   "cell_type": "code",
   "execution_count": null,
   "id": "d9547633",
   "metadata": {},
   "outputs": [],
   "source": [
    "from sklearn.model_selection import train_test_split\n",
    "from sklearn.ensemble import RandomForestRegressor\n",
    "from sklearn.metrics import mean_absolute_error\n",
    "from sklearn.preprocessing import StandardScaler\n",
    "import pandas as pd\n",
    "import seaborn as sns\n",
    "from sklearn.linear_model import LinearRegression\n",
    "from sklearn import metrics\n",
    "import numpy as np\n",
    "from sklearn.metrics import mean_squared_error, r2_score\n",
    "\n",
    "y=data['Rent']\n",
    "predictors = ['Size', 'BHK', 'Bathroom']\n",
    "x=data[predictors]\n",
    "x.head()\n"
   ]
  },
  {
   "cell_type": "code",
   "execution_count": null,
   "id": "bdee4fb5",
   "metadata": {},
   "outputs": [],
   "source": [
    "X_train, X_test, y_train, y_test = train_test_split(x, y, random_state=1)\n",
    "print(X_train.shape)\n",
    "print(y_train.shape)\n",
    "print(X_test.shape)\n",
    "print(y_test.shape)"
   ]
  },
  {
   "cell_type": "code",
   "execution_count": 55,
   "id": "56727338",
   "metadata": {},
   "outputs": [
    {
     "name": "stdout",
     "output_type": "stream",
     "text": [
      "-36962.074198022834\n",
      "[ 2.03751252e+01 -1.04931410e+03  2.73519269e+04]\n",
      "Root Mean Squared Error: 11758754890.06\n",
      "R2 Score: 0.1142\n",
      "mean Found:  34993.45132743363\n"
     ]
    },
    {
     "data": {
      "text/plain": [
       "[('Size', 20.375125221784284),\n",
       " ('BHK', -1049.3141033910142),\n",
       " ('Bathroom', 27351.926877033075)]"
      ]
     },
     "execution_count": 55,
     "metadata": {},
     "output_type": "execute_result"
    }
   ],
   "source": [
    "#We will now try to build a linear regression model using our trained sets.\n",
    "linearregression = LinearRegression().fit(X_train, y_train)\n",
    "predict=linearregression.predict(X_test)\n",
    "R2=r2_score(y_test,predict)\n",
    "rmse=mean_squared_error(y_test,predict)\n",
    "\n",
    "\n",
    "\n",
    "linearregression.fit(X_train, y_train)\n",
    "print(linearregression.intercept_)\n",
    "print(linearregression.coef_)\n",
    "\n",
    "print('Root Mean Squared Error:', round(rmse, 2))\n",
    "print('R2 Score:', round(R2, 4))\n",
    "print('mean Found: ', np.mean(data['Rent']))\n",
    "list(zip(predictors, linearregression.coef_))"
   ]
  },
  {
   "cell_type": "code",
   "execution_count": null,
   "id": "a7413396",
   "metadata": {},
   "outputs": [],
   "source": [
    "# Our model has given an Root Mean Error of more than a billion in rent, which \n",
    "# means the data is completely off due to outliers and other forms in the data. \n",
    "# we will try to normalize it and see if there is any difference.\n",
    "#Our intercept is also found at -36962."
   ]
  },
  {
   "cell_type": "code",
   "execution_count": null,
   "id": "d97f6a20",
   "metadata": {},
   "outputs": [],
   "source": [
    "#we will use a function that I researched in order to normalize the 3 columns from before. After normalization they will be\n",
    "#named [column name]_log to be used later. we will plot and show the difference.\n",
    "\n",
    "from math import log\n",
    "def transformation(row: pd.core.series.Series, col: str) -> float:\n",
    "    if row[col] <= 0:\n",
    "        return 0\n",
    "    return log(row[col])\n",
    "\n",
    "trf = ['BHK', 'Bathroom', 'Size']\n",
    "\n",
    "\n",
    "fig, axes = plt.subplots(nrows=2, ncols=2, figsize=(15,12))\n",
    "\n",
    "fig.suptitle('Normalisation of BHK, Bathroom, and Size')\n",
    "\n",
    "for ax, column in zip(axes.flatten(), cols_for_trf):\n",
    "    trans = f'{column}_log'\n",
    "    data[trans] = data.apply(lambda x: transformation(x, column), axis=1)\n",
    "    ax.set_title(trans)\n",
    "    data[trans].hist(ax=ax)\n",
    "\n",
    "plt.show()"
   ]
  },
  {
   "cell_type": "code",
   "execution_count": 56,
   "id": "eb9f7c18",
   "metadata": {},
   "outputs": [
    {
     "ename": "KeyError",
     "evalue": "\"['Size_log', 'BHK_log'] not in index\"",
     "output_type": "error",
     "traceback": [
      "\u001B[1;31m---------------------------------------------------------------------------\u001B[0m",
      "\u001B[1;31mKeyError\u001B[0m                                  Traceback (most recent call last)",
      "Cell \u001B[1;32mIn[56], line 2\u001B[0m\n\u001B[0;32m      1\u001B[0m new_predictors \u001B[38;5;241m=\u001B[39m [\u001B[38;5;124m'\u001B[39m\u001B[38;5;124mSize_log\u001B[39m\u001B[38;5;124m'\u001B[39m, \u001B[38;5;124m'\u001B[39m\u001B[38;5;124mBHK_log\u001B[39m\u001B[38;5;124m'\u001B[39m, \u001B[38;5;124m'\u001B[39m\u001B[38;5;124mBathroom\u001B[39m\u001B[38;5;124m'\u001B[39m]\n\u001B[1;32m----> 2\u001B[0m x\u001B[38;5;241m=\u001B[39m\u001B[43mdata\u001B[49m\u001B[43m[\u001B[49m\u001B[43mnew_predictors\u001B[49m\u001B[43m]\u001B[49m\n\u001B[0;32m      3\u001B[0m X_train, X_test, y_train, y_test \u001B[38;5;241m=\u001B[39m train_test_split(x, y, random_state\u001B[38;5;241m=\u001B[39m\u001B[38;5;241m1\u001B[39m)\n\u001B[0;32m      4\u001B[0m \u001B[38;5;28mprint\u001B[39m(X_train\u001B[38;5;241m.\u001B[39mshape)\n",
      "File \u001B[1;32m~\\AppData\\Local\\Programs\\Python\\Python311\\Lib\\site-packages\\pandas\\core\\frame.py:3813\u001B[0m, in \u001B[0;36mDataFrame.__getitem__\u001B[1;34m(self, key)\u001B[0m\n\u001B[0;32m   3811\u001B[0m     \u001B[38;5;28;01mif\u001B[39;00m is_iterator(key):\n\u001B[0;32m   3812\u001B[0m         key \u001B[38;5;241m=\u001B[39m \u001B[38;5;28mlist\u001B[39m(key)\n\u001B[1;32m-> 3813\u001B[0m     indexer \u001B[38;5;241m=\u001B[39m \u001B[38;5;28;43mself\u001B[39;49m\u001B[38;5;241;43m.\u001B[39;49m\u001B[43mcolumns\u001B[49m\u001B[38;5;241;43m.\u001B[39;49m\u001B[43m_get_indexer_strict\u001B[49m\u001B[43m(\u001B[49m\u001B[43mkey\u001B[49m\u001B[43m,\u001B[49m\u001B[43m \u001B[49m\u001B[38;5;124;43m\"\u001B[39;49m\u001B[38;5;124;43mcolumns\u001B[39;49m\u001B[38;5;124;43m\"\u001B[39;49m\u001B[43m)\u001B[49m[\u001B[38;5;241m1\u001B[39m]\n\u001B[0;32m   3815\u001B[0m \u001B[38;5;66;03m# take() does not accept boolean indexers\u001B[39;00m\n\u001B[0;32m   3816\u001B[0m \u001B[38;5;28;01mif\u001B[39;00m \u001B[38;5;28mgetattr\u001B[39m(indexer, \u001B[38;5;124m\"\u001B[39m\u001B[38;5;124mdtype\u001B[39m\u001B[38;5;124m\"\u001B[39m, \u001B[38;5;28;01mNone\u001B[39;00m) \u001B[38;5;241m==\u001B[39m \u001B[38;5;28mbool\u001B[39m:\n",
      "File \u001B[1;32m~\\AppData\\Local\\Programs\\Python\\Python311\\Lib\\site-packages\\pandas\\core\\indexes\\base.py:6070\u001B[0m, in \u001B[0;36mIndex._get_indexer_strict\u001B[1;34m(self, key, axis_name)\u001B[0m\n\u001B[0;32m   6067\u001B[0m \u001B[38;5;28;01melse\u001B[39;00m:\n\u001B[0;32m   6068\u001B[0m     keyarr, indexer, new_indexer \u001B[38;5;241m=\u001B[39m \u001B[38;5;28mself\u001B[39m\u001B[38;5;241m.\u001B[39m_reindex_non_unique(keyarr)\n\u001B[1;32m-> 6070\u001B[0m \u001B[38;5;28;43mself\u001B[39;49m\u001B[38;5;241;43m.\u001B[39;49m\u001B[43m_raise_if_missing\u001B[49m\u001B[43m(\u001B[49m\u001B[43mkeyarr\u001B[49m\u001B[43m,\u001B[49m\u001B[43m \u001B[49m\u001B[43mindexer\u001B[49m\u001B[43m,\u001B[49m\u001B[43m \u001B[49m\u001B[43maxis_name\u001B[49m\u001B[43m)\u001B[49m\n\u001B[0;32m   6072\u001B[0m keyarr \u001B[38;5;241m=\u001B[39m \u001B[38;5;28mself\u001B[39m\u001B[38;5;241m.\u001B[39mtake(indexer)\n\u001B[0;32m   6073\u001B[0m \u001B[38;5;28;01mif\u001B[39;00m \u001B[38;5;28misinstance\u001B[39m(key, Index):\n\u001B[0;32m   6074\u001B[0m     \u001B[38;5;66;03m# GH 42790 - Preserve name from an Index\u001B[39;00m\n",
      "File \u001B[1;32m~\\AppData\\Local\\Programs\\Python\\Python311\\Lib\\site-packages\\pandas\\core\\indexes\\base.py:6133\u001B[0m, in \u001B[0;36mIndex._raise_if_missing\u001B[1;34m(self, key, indexer, axis_name)\u001B[0m\n\u001B[0;32m   6130\u001B[0m     \u001B[38;5;28;01mraise\u001B[39;00m \u001B[38;5;167;01mKeyError\u001B[39;00m(\u001B[38;5;124mf\u001B[39m\u001B[38;5;124m\"\u001B[39m\u001B[38;5;124mNone of [\u001B[39m\u001B[38;5;132;01m{\u001B[39;00mkey\u001B[38;5;132;01m}\u001B[39;00m\u001B[38;5;124m] are in the [\u001B[39m\u001B[38;5;132;01m{\u001B[39;00maxis_name\u001B[38;5;132;01m}\u001B[39;00m\u001B[38;5;124m]\u001B[39m\u001B[38;5;124m\"\u001B[39m)\n\u001B[0;32m   6132\u001B[0m not_found \u001B[38;5;241m=\u001B[39m \u001B[38;5;28mlist\u001B[39m(ensure_index(key)[missing_mask\u001B[38;5;241m.\u001B[39mnonzero()[\u001B[38;5;241m0\u001B[39m]]\u001B[38;5;241m.\u001B[39munique())\n\u001B[1;32m-> 6133\u001B[0m \u001B[38;5;28;01mraise\u001B[39;00m \u001B[38;5;167;01mKeyError\u001B[39;00m(\u001B[38;5;124mf\u001B[39m\u001B[38;5;124m\"\u001B[39m\u001B[38;5;132;01m{\u001B[39;00mnot_found\u001B[38;5;132;01m}\u001B[39;00m\u001B[38;5;124m not in index\u001B[39m\u001B[38;5;124m\"\u001B[39m)\n",
      "\u001B[1;31mKeyError\u001B[0m: \"['Size_log', 'BHK_log'] not in index\""
     ]
    }
   ],
   "source": [
    "new_predictors = ['Size_log', 'BHK_log', 'Bathroom']\n",
    "x=data[new_predictors]\n",
    "X_train, X_test, y_train, y_test = train_test_split(x, y, random_state=1)\n",
    "print(X_train.shape)\n",
    "print(y_train.shape)\n",
    "print(X_test.shape)\n",
    "print(y_test.shape)\n",
    "linearregression = LinearRegression().fit(X_train, y_train)\n",
    "predict=linearregression.predict(X_test)\n",
    "R2=r2_score(y_test,predict)\n",
    "rmse=mean_squared_error(y_test,predict)\n",
    "print('mean: ', np.mean(data['Rent']))\n",
    "\n",
    "\n",
    "linearregression.fit(X_train, y_train)\n",
    "print(linearregression.intercept_)\n",
    "print(linearregression.coef_)\n",
    "\n",
    "print('Root Mean Squared Error:', round(rmse, 2))\n",
    "print('R2 Score:', round(R2, 4))\n",
    "\n",
    "list(zip(new_predictors, linearregression.coef_))"
   ]
  },
  {
   "cell_type": "code",
   "execution_count": null,
   "id": "8c9584c1",
   "metadata": {},
   "outputs": [],
   "source": [
    "# It appears the error is exactly the same even though normalization has occured, minus the Root Square being increased\n",
    "# This means that considering all the factors, \n",
    "#This means alot of underfitting has occured and we need to prevent that as well as pick a new model.\n",
    "# Linear Regression is not a good model for this aspect of determining rent, as the variables to consider are not influential \n",
    "#enough to train a best fit model. We should try a new model now. "
   ]
  },
  {
   "cell_type": "code",
   "execution_count": 58,
   "id": "82c5907e",
   "metadata": {},
   "outputs": [
    {
     "data": {
      "text/html": [
       "<style>#sk-container-id-3 {color: black;background-color: white;}#sk-container-id-3 pre{padding: 0;}#sk-container-id-3 div.sk-toggleable {background-color: white;}#sk-container-id-3 label.sk-toggleable__label {cursor: pointer;display: block;width: 100%;margin-bottom: 0;padding: 0.3em;box-sizing: border-box;text-align: center;}#sk-container-id-3 label.sk-toggleable__label-arrow:before {content: \"▸\";float: left;margin-right: 0.25em;color: #696969;}#sk-container-id-3 label.sk-toggleable__label-arrow:hover:before {color: black;}#sk-container-id-3 div.sk-estimator:hover label.sk-toggleable__label-arrow:before {color: black;}#sk-container-id-3 div.sk-toggleable__content {max-height: 0;max-width: 0;overflow: hidden;text-align: left;background-color: #f0f8ff;}#sk-container-id-3 div.sk-toggleable__content pre {margin: 0.2em;color: black;border-radius: 0.25em;background-color: #f0f8ff;}#sk-container-id-3 input.sk-toggleable__control:checked~div.sk-toggleable__content {max-height: 200px;max-width: 100%;overflow: auto;}#sk-container-id-3 input.sk-toggleable__control:checked~label.sk-toggleable__label-arrow:before {content: \"▾\";}#sk-container-id-3 div.sk-estimator input.sk-toggleable__control:checked~label.sk-toggleable__label {background-color: #d4ebff;}#sk-container-id-3 div.sk-label input.sk-toggleable__control:checked~label.sk-toggleable__label {background-color: #d4ebff;}#sk-container-id-3 input.sk-hidden--visually {border: 0;clip: rect(1px 1px 1px 1px);clip: rect(1px, 1px, 1px, 1px);height: 1px;margin: -1px;overflow: hidden;padding: 0;position: absolute;width: 1px;}#sk-container-id-3 div.sk-estimator {font-family: monospace;background-color: #f0f8ff;border: 1px dotted black;border-radius: 0.25em;box-sizing: border-box;margin-bottom: 0.5em;}#sk-container-id-3 div.sk-estimator:hover {background-color: #d4ebff;}#sk-container-id-3 div.sk-parallel-item::after {content: \"\";width: 100%;border-bottom: 1px solid gray;flex-grow: 1;}#sk-container-id-3 div.sk-label:hover label.sk-toggleable__label {background-color: #d4ebff;}#sk-container-id-3 div.sk-serial::before {content: \"\";position: absolute;border-left: 1px solid gray;box-sizing: border-box;top: 0;bottom: 0;left: 50%;z-index: 0;}#sk-container-id-3 div.sk-serial {display: flex;flex-direction: column;align-items: center;background-color: white;padding-right: 0.2em;padding-left: 0.2em;position: relative;}#sk-container-id-3 div.sk-item {position: relative;z-index: 1;}#sk-container-id-3 div.sk-parallel {display: flex;align-items: stretch;justify-content: center;background-color: white;position: relative;}#sk-container-id-3 div.sk-item::before, #sk-container-id-3 div.sk-parallel-item::before {content: \"\";position: absolute;border-left: 1px solid gray;box-sizing: border-box;top: 0;bottom: 0;left: 50%;z-index: -1;}#sk-container-id-3 div.sk-parallel-item {display: flex;flex-direction: column;z-index: 1;position: relative;background-color: white;}#sk-container-id-3 div.sk-parallel-item:first-child::after {align-self: flex-end;width: 50%;}#sk-container-id-3 div.sk-parallel-item:last-child::after {align-self: flex-start;width: 50%;}#sk-container-id-3 div.sk-parallel-item:only-child::after {width: 0;}#sk-container-id-3 div.sk-dashed-wrapped {border: 1px dashed gray;margin: 0 0.4em 0.5em 0.4em;box-sizing: border-box;padding-bottom: 0.4em;background-color: white;}#sk-container-id-3 div.sk-label label {font-family: monospace;font-weight: bold;display: inline-block;line-height: 1.2em;}#sk-container-id-3 div.sk-label-container {text-align: center;}#sk-container-id-3 div.sk-container {/* jupyter's `normalize.less` sets `[hidden] { display: none; }` but bootstrap.min.css set `[hidden] { display: none !important; }` so we also need the `!important` here to be able to override the default hidden behavior on the sphinx rendered scikit-learn.org. See: https://github.com/scikit-learn/scikit-learn/issues/21755 */display: inline-block !important;position: relative;}#sk-container-id-3 div.sk-text-repr-fallback {display: none;}</style><div id=\"sk-container-id-3\" class=\"sk-top-container\"><div class=\"sk-text-repr-fallback\"><pre>GridSearchCV(estimator=RandomForestRegressor(), n_jobs=-1,\n",
       "             param_grid={&#x27;max_depth&#x27;: [None, 3, 5, 7],\n",
       "                         &#x27;max_features&#x27;: [1, 2, 3],\n",
       "                         &#x27;max_samples&#x27;: [0.25, 0.5, 0.75],\n",
       "                         &#x27;n_estimators&#x27;: [50, 100, 400, 700]})</pre><b>In a Jupyter environment, please rerun this cell to show the HTML representation or trust the notebook. <br />On GitHub, the HTML representation is unable to render, please try loading this page with nbviewer.org.</b></div><div class=\"sk-container\" hidden><div class=\"sk-item sk-dashed-wrapped\"><div class=\"sk-label-container\"><div class=\"sk-label sk-toggleable\"><input class=\"sk-toggleable__control sk-hidden--visually\" id=\"sk-estimator-id-7\" type=\"checkbox\" ><label for=\"sk-estimator-id-7\" class=\"sk-toggleable__label sk-toggleable__label-arrow\">GridSearchCV</label><div class=\"sk-toggleable__content\"><pre>GridSearchCV(estimator=RandomForestRegressor(), n_jobs=-1,\n",
       "             param_grid={&#x27;max_depth&#x27;: [None, 3, 5, 7],\n",
       "                         &#x27;max_features&#x27;: [1, 2, 3],\n",
       "                         &#x27;max_samples&#x27;: [0.25, 0.5, 0.75],\n",
       "                         &#x27;n_estimators&#x27;: [50, 100, 400, 700]})</pre></div></div></div><div class=\"sk-parallel\"><div class=\"sk-parallel-item\"><div class=\"sk-item\"><div class=\"sk-label-container\"><div class=\"sk-label sk-toggleable\"><input class=\"sk-toggleable__control sk-hidden--visually\" id=\"sk-estimator-id-8\" type=\"checkbox\" ><label for=\"sk-estimator-id-8\" class=\"sk-toggleable__label sk-toggleable__label-arrow\">estimator: RandomForestRegressor</label><div class=\"sk-toggleable__content\"><pre>RandomForestRegressor()</pre></div></div></div><div class=\"sk-serial\"><div class=\"sk-item\"><div class=\"sk-estimator sk-toggleable\"><input class=\"sk-toggleable__control sk-hidden--visually\" id=\"sk-estimator-id-9\" type=\"checkbox\" ><label for=\"sk-estimator-id-9\" class=\"sk-toggleable__label sk-toggleable__label-arrow\">RandomForestRegressor</label><div class=\"sk-toggleable__content\"><pre>RandomForestRegressor()</pre></div></div></div></div></div></div></div></div></div></div>"
      ],
      "text/plain": [
       "GridSearchCV(estimator=RandomForestRegressor(), n_jobs=-1,\n",
       "             param_grid={'max_depth': [None, 3, 5, 7],\n",
       "                         'max_features': [1, 2, 3],\n",
       "                         'max_samples': [0.25, 0.5, 0.75],\n",
       "                         'n_estimators': [50, 100, 400, 700]})"
      ]
     },
     "execution_count": 58,
     "metadata": {},
     "output_type": "execute_result"
    }
   ],
   "source": [
    "#3. Model Selection\n",
    "\n",
    "#We will use a random Forest Model now. This model has a wide use in Regression and\n",
    "#Classification Data. It is also a decision tree tester\n",
    "from sklearn.model_selection import GridSearchCV\n",
    "from sklearn.ensemble import RandomForestRegressor\n",
    "rf_model = RandomForestRegressor()\n",
    "\n",
    "# Creating parameter grids.\n",
    "param_grid = {\n",
    "    'n_estimators': [50, 100, 400, 700]\n",
    "    , 'max_depth': [None, 3, 5, 7]\n",
    "    , 'max_features': [1, 2, 3]\n",
    "    , 'max_samples': [0.25, 0.5, 0.75]\n",
    "}\n",
    "#a brief explanation of the parameter grid\n",
    "#n_estimators: specifies the number of trees in the model\n",
    "#max_depth: The number of splits each tree should make. doing 3,5,7 should create a form stable with less overfitting/underfitting\n",
    "#max_features: takes random subsets and creates a split\n",
    "#max_samples: determines the fraction the original set is given to the tree.\n",
    "np.random.seed(10)\n",
    "grid_search_rf = GridSearchCV(\n",
    "    estimator = rf_model\n",
    "    , param_grid = param_grid\n",
    "    , n_jobs = -1 # use all processors\n",
    "#     , verbose = 2\n",
    ")\n",
    "grid_search_rf.fit(X_train, y_train)\n"
   ]
  },
  {
   "cell_type": "code",
   "execution_count": null,
   "id": "42d73aec",
   "metadata": {},
   "outputs": [],
   "source": [
    "#utilizing the best parameters and finding the test score \n",
    "best_run_n = list(grid_search_rf.cv_results_['rank_test_score']).index(1)\n",
    "print('Best parameters:', grid_search_rf.best_params_)\n",
    "print(grid_search_rf.cv_results_['mean_test_score'][best_run_n])"
   ]
  },
  {
   "cell_type": "code",
   "execution_count": null,
   "id": "a031e16e",
   "metadata": {},
   "outputs": [],
   "source": [
    "# From our results we now have an R Squared value of 42%. Previously we\n",
    "# had a value of 10%. This means we have improved our test by 30% by using\n",
    "# a different model. "
   ]
  },
  {
   "cell_type": "code",
   "execution_count": 59,
   "id": "c7d2d296",
   "metadata": {},
   "outputs": [
    {
     "name": "stdout",
     "output_type": "stream",
     "text": [
      "Test set RMSE: 106197.03\n"
     ]
    }
   ],
   "source": [
    "predictions = grid_search_rf.predict(X_test)\n",
    "\n",
    "# Calculate the RMSE\n",
    "rmse = np.sqrt(mean_squared_error(y_test, predictions))\n",
    "print(f'Test set RMSE: {rmse:.2f}')"
   ]
  },
  {
   "cell_type": "code",
   "execution_count": null,
   "id": "f78a24a5",
   "metadata": {},
   "outputs": [],
   "source": [
    "# Predicting using the test led to a value of 100000. This is a value smaller than our linear regression model had for \n",
    "# its RMSE but more closer due to proper testing and cross-validation sets.\n",
    "# # and much more feasible.\n",
    "# Root Mean Squared Error (For LR): 11758754890.06. \n",
    "# This however doesn't quite fit the data well as the average rent is 35000 (See IN[82])"
   ]
  },
  {
   "cell_type": "code",
   "execution_count": null,
   "id": "f0dc32fe",
   "metadata": {},
   "outputs": [],
   "source": [
    "import matplotlib.pyplot as plt\n",
    "from sklearn.tree import plot_tree\n",
    "\n",
    "fig = plt.figure(figsize=(15, 10))\n",
    "plot_tree(param_grid.estimators_[0], \n",
    "          feature_names=trf.feature_names,\n",
    "          class_names=trf.target_names, \n",
    "          filled=True, impurity=True, \n",
    "          rounded=True)"
   ]
  },
  {
   "cell_type": "code",
   "execution_count": null,
   "id": "4ebdb3f6",
   "metadata": {},
   "outputs": [],
   "source": [
    "from dtreeviz.trees import dtreeviz\n",
    "viz = dtreeviz(grid_search_rf_[0], X, y,\n",
    "               feature_names=house.feature_names,\n",
    "               title=\"1st decision tree - House data\")"
   ]
  },
  {
   "cell_type": "code",
   "execution_count": null,
   "id": "5d124e21",
   "metadata": {},
   "outputs": [],
   "source": [
    "#CONCLUSION\n",
    "\n",
    "# To conclude my investigation with the dataset using the model I have created, I realize that the factors I considered when\n",
    "# creating the model has led me to believe that the city tends to be the leading cause to rental pricing. \n",
    "# At first I believed the space provided would be the sole cause of why rent could be high or low, but in actuality, it may be \n",
    "# because people tend to do their business in a particular city more which is why places that are far away from it \n",
    "# (Or have no malls or supermarkets nearby it) would require less rent. Next time the other factors should be considered to further\n",
    "# increase the accuracy\n",
    "\n",
    "#For our model selection, I conclude that a best fit model would not occur  from a linear regression model. an increase \n",
    "# of more than 30 Percent occured from utilizing a different model. In addition, due to outliers and lack of nominal data we had\n",
    "#been led to a non-perfect model. \n",
    "#Next time I hope to create a model capable of utilizing less underfitting while avoiding noise in the form of too accurate models.\n",
    "\n",
    "\n",
    "#Thank You."
   ]
  },
  {
   "cell_type": "code",
   "execution_count": null,
   "id": "ff07a387",
   "metadata": {},
   "outputs": [],
   "source": []
  }
 ],
 "metadata": {
  "kernelspec": {
   "display_name": "Python 3 (ipykernel)",
   "language": "python",
   "name": "python3"
  },
  "language_info": {
   "codemirror_mode": {
    "name": "ipython",
    "version": 3
   },
   "file_extension": ".py",
   "mimetype": "text/x-python",
   "name": "python",
   "nbconvert_exporter": "python",
   "pygments_lexer": "ipython3",
   "version": "3.11.2"
  }
 },
 "nbformat": 4,
 "nbformat_minor": 5
}
